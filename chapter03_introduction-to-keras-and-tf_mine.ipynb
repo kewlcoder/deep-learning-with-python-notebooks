{
 "cells": [
  {
   "cell_type": "markdown",
   "metadata": {
    "colab_type": "text"
   },
   "source": [
    "This is a companion notebook for the book [Deep Learning with Python, Second Edition](https://www.manning.com/books/deep-learning-with-python-second-edition?a_aid=keras&a_bid=76564dff). For readability, it only contains runnable code blocks and section titles, and omits everything else in the book: text paragraphs, figures, and pseudocode.\n",
    "\n",
    "**If you want to be able to follow what's going on, I recommend reading the notebook side by side with your copy of the book.**\n",
    "\n",
    "This notebook was generated for TensorFlow 2.6."
   ]
  },
  {
   "cell_type": "markdown",
   "metadata": {
    "colab_type": "text"
   },
   "source": [
    "# Introduction to Keras and TensorFlow"
   ]
  },
  {
   "cell_type": "markdown",
   "metadata": {
    "colab_type": "text"
   },
   "source": [
    "## What's TensorFlow?"
   ]
  },
  {
   "cell_type": "markdown",
   "metadata": {
    "colab_type": "text"
   },
   "source": [
    "## What's Keras?"
   ]
  },
  {
   "cell_type": "markdown",
   "metadata": {
    "colab_type": "text"
   },
   "source": [
    "## Keras and TensorFlow: A brief history"
   ]
  },
  {
   "cell_type": "markdown",
   "metadata": {
    "colab_type": "text"
   },
   "source": [
    "## Setting up a deep-learning workspace"
   ]
  },
  {
   "cell_type": "markdown",
   "metadata": {
    "colab_type": "text"
   },
   "source": [
    "### Jupyter notebooks: The preferred way to run deep-learning experiments"
   ]
  },
  {
   "cell_type": "markdown",
   "metadata": {
    "colab_type": "text"
   },
   "source": [
    "### Using Colaboratory"
   ]
  },
  {
   "cell_type": "markdown",
   "metadata": {
    "colab_type": "text"
   },
   "source": [
    "#### First steps with Colaboratory"
   ]
  },
  {
   "cell_type": "markdown",
   "metadata": {
    "colab_type": "text"
   },
   "source": [
    "#### Installing packages with pip"
   ]
  },
  {
   "cell_type": "markdown",
   "metadata": {
    "colab_type": "text"
   },
   "source": [
    "#### Using the GPU runtime"
   ]
  },
  {
   "cell_type": "markdown",
   "metadata": {
    "colab_type": "text"
   },
   "source": [
    "## First steps with TensorFlow"
   ]
  },
  {
   "cell_type": "markdown",
   "metadata": {
    "colab_type": "text"
   },
   "source": [
    "#### Constant tensors and variables"
   ]
  },
  {
   "cell_type": "markdown",
   "metadata": {
    "colab_type": "text"
   },
   "source": [
    "**All-ones or all-zeros tensors**"
   ]
  },
  {
   "cell_type": "code",
   "execution_count": 1,
   "metadata": {
    "colab_type": "code"
   },
   "outputs": [],
   "source": [
    "# import tensorflow as tf\n",
    "# x = tf.ones(shape=(2, 1))\n",
    "# print(x)"
   ]
  },
  {
   "cell_type": "code",
   "execution_count": 2,
   "metadata": {},
   "outputs": [],
   "source": [
    "# tf.ones?"
   ]
  },
  {
   "cell_type": "code",
   "execution_count": 3,
   "metadata": {},
   "outputs": [
    {
     "name": "stderr",
     "output_type": "stream",
     "text": [
      "2023-08-19 18:34:50.871038: I tensorflow/core/util/port.cc:110] oneDNN custom operations are on. You may see slightly different numerical results due to floating-point round-off errors from different computation orders. To turn them off, set the environment variable `TF_ENABLE_ONEDNN_OPTS=0`.\n",
      "2023-08-19 18:34:50.902204: I tensorflow/core/platform/cpu_feature_guard.cc:182] This TensorFlow binary is optimized to use available CPU instructions in performance-critical operations.\n",
      "To enable the following instructions: AVX2 AVX512F AVX512_VNNI FMA, in other operations, rebuild TensorFlow with the appropriate compiler flags.\n",
      "2023-08-19 18:34:51.399955: W tensorflow/compiler/tf2tensorrt/utils/py_utils.cc:38] TF-TRT Warning: Could not find TensorRT\n",
      "2023-08-19 18:34:51.943292: I tensorflow/core/common_runtime/gpu/gpu_device.cc:1639] Created device /job:localhost/replica:0/task:0/device:GPU:0 with 4787 MB memory:  -> device: 0, name: NVIDIA GeForce RTX 3070 Laptop GPU, pci bus id: 0000:01:00.0, compute capability: 8.6\n"
     ]
    },
    {
     "data": {
      "text/plain": [
       "<tf.Tensor: shape=(2, 3), dtype=float32, numpy=\n",
       "array([[1., 1., 1.],\n",
       "       [1., 1., 1.]], dtype=float32)>"
      ]
     },
     "execution_count": 3,
     "metadata": {},
     "output_type": "execute_result"
    }
   ],
   "source": [
    "import tensorflow as tf\n",
    "x = tf.ones((2,3))\n",
    "x"
   ]
  },
  {
   "cell_type": "code",
   "execution_count": 4,
   "metadata": {
    "colab_type": "code"
   },
   "outputs": [],
   "source": [
    "# x = tf.zeros(shape=(2, 1))\n",
    "# print(x)"
   ]
  },
  {
   "cell_type": "code",
   "execution_count": 5,
   "metadata": {},
   "outputs": [
    {
     "data": {
      "text/plain": [
       "<tf.Tensor: shape=(3, 4), dtype=float32, numpy=\n",
       "array([[0., 0., 0., 0.],\n",
       "       [0., 0., 0., 0.],\n",
       "       [0., 0., 0., 0.]], dtype=float32)>"
      ]
     },
     "execution_count": 5,
     "metadata": {},
     "output_type": "execute_result"
    }
   ],
   "source": [
    "x = tf.zeros( (3,4))\n",
    "x"
   ]
  },
  {
   "cell_type": "markdown",
   "metadata": {
    "colab_type": "text"
   },
   "source": [
    "**Random tensors**"
   ]
  },
  {
   "cell_type": "code",
   "execution_count": 6,
   "metadata": {
    "colab_type": "code"
   },
   "outputs": [],
   "source": [
    "# x = tf.random.normal(shape=(3, 1), mean=0., stddev=1.)\n",
    "# print(x)"
   ]
  },
  {
   "cell_type": "code",
   "execution_count": 7,
   "metadata": {},
   "outputs": [
    {
     "data": {
      "text/plain": [
       "<tf.Tensor: shape=(3, 3), dtype=float32, numpy=\n",
       "array([[ 0.33236772,  1.888805  ,  1.2713225 ],\n",
       "       [ 0.8459379 , -0.58712965,  0.5811702 ],\n",
       "       [-0.7377544 , -0.23736991,  0.5542819 ]], dtype=float32)>"
      ]
     },
     "execution_count": 7,
     "metadata": {},
     "output_type": "execute_result"
    }
   ],
   "source": [
    "x = tf.random.normal( (3,3), mean=0., stddev=1.)\n",
    "x"
   ]
  },
  {
   "cell_type": "code",
   "execution_count": 8,
   "metadata": {
    "colab_type": "code"
   },
   "outputs": [],
   "source": [
    "# x = tf.random.uniform(shape=(3, 1), minval=0., maxval=1.)\n",
    "# print(x)"
   ]
  },
  {
   "cell_type": "code",
   "execution_count": 9,
   "metadata": {},
   "outputs": [
    {
     "data": {
      "text/plain": [
       "<tf.Tensor: shape=(3, 3), dtype=float32, numpy=\n",
       "array([[ 0.6337712 , -0.23043251,  0.437366  ],\n",
       "       [ 0.5898533 ,  0.88322854, -0.17211437],\n",
       "       [-0.19670081,  0.07604861,  0.4006586 ]], dtype=float32)>"
      ]
     },
     "execution_count": 9,
     "metadata": {},
     "output_type": "execute_result"
    }
   ],
   "source": [
    "x = tf.random.uniform( (3,3), minval=-1., maxval=1. )\n",
    "x"
   ]
  },
  {
   "cell_type": "markdown",
   "metadata": {
    "colab_type": "text"
   },
   "source": [
    "**NumPy arrays are assignable**"
   ]
  },
  {
   "cell_type": "code",
   "execution_count": 10,
   "metadata": {
    "colab_type": "code"
   },
   "outputs": [],
   "source": [
    "import numpy as np\n",
    "x = np.ones(shape=(2, 2))\n",
    "x[0, 0] = 0."
   ]
  },
  {
   "cell_type": "markdown",
   "metadata": {
    "colab_type": "text"
   },
   "source": [
    "**Creating a TensorFlow variable**"
   ]
  },
  {
   "cell_type": "code",
   "execution_count": 11,
   "metadata": {
    "colab_type": "code"
   },
   "outputs": [],
   "source": [
    "# v = tf.Variable(initial_value=tf.random.normal(shape=(3, 1)))\n",
    "# print(v)"
   ]
  },
  {
   "cell_type": "code",
   "execution_count": 12,
   "metadata": {},
   "outputs": [
    {
     "data": {
      "text/plain": [
       "<tf.Variable 'Variable:0' shape=(3, 3) dtype=float32, numpy=\n",
       "array([[ 0.8475013 , -0.26824757,  1.6620756 ],\n",
       "       [-0.23002516,  0.3695028 ,  0.93884856],\n",
       "       [ 0.15068492,  0.16642222,  1.7273587 ]], dtype=float32)>"
      ]
     },
     "execution_count": 12,
     "metadata": {},
     "output_type": "execute_result"
    }
   ],
   "source": [
    "v = tf.Variable(tf.random.normal((3,3)))\n",
    "v"
   ]
  },
  {
   "cell_type": "markdown",
   "metadata": {
    "colab_type": "text"
   },
   "source": [
    "**Assigning a value to a TensorFlow variable**"
   ]
  },
  {
   "cell_type": "code",
   "execution_count": 13,
   "metadata": {
    "colab_type": "code"
   },
   "outputs": [],
   "source": [
    "# v.assign(tf.ones((3, 1)))"
   ]
  },
  {
   "cell_type": "code",
   "execution_count": 14,
   "metadata": {},
   "outputs": [
    {
     "data": {
      "text/plain": [
       "<tf.Variable 'Variable:0' shape=(3, 3) dtype=float32, numpy=\n",
       "array([[1., 1., 1.],\n",
       "       [1., 1., 1.],\n",
       "       [1., 1., 1.]], dtype=float32)>"
      ]
     },
     "execution_count": 14,
     "metadata": {},
     "output_type": "execute_result"
    }
   ],
   "source": [
    "v.assign( tf.ones((3,3)) )\n",
    "v"
   ]
  },
  {
   "cell_type": "markdown",
   "metadata": {
    "colab_type": "text"
   },
   "source": [
    "**Assigning a value to a subset of a TensorFlow variable**"
   ]
  },
  {
   "cell_type": "code",
   "execution_count": 15,
   "metadata": {
    "colab_type": "code"
   },
   "outputs": [],
   "source": [
    "# v[0, 0].assign(3.)"
   ]
  },
  {
   "cell_type": "code",
   "execution_count": 16,
   "metadata": {},
   "outputs": [
    {
     "data": {
      "text/plain": [
       "<tf.Variable 'Variable:0' shape=(3, 3) dtype=float32, numpy=\n",
       "array([[1., 0., 1.],\n",
       "       [1., 1., 1.],\n",
       "       [1., 1., 1.]], dtype=float32)>"
      ]
     },
     "execution_count": 16,
     "metadata": {},
     "output_type": "execute_result"
    }
   ],
   "source": [
    "v[0,1].assign(0.)\n",
    "v"
   ]
  },
  {
   "cell_type": "markdown",
   "metadata": {
    "colab_type": "text"
   },
   "source": [
    "**Using `assign_add`**"
   ]
  },
  {
   "cell_type": "code",
   "execution_count": 17,
   "metadata": {
    "colab_type": "code"
   },
   "outputs": [],
   "source": [
    "# v.assign_add(tf.ones((3, 1)))"
   ]
  },
  {
   "cell_type": "code",
   "execution_count": 18,
   "metadata": {},
   "outputs": [
    {
     "data": {
      "text/plain": [
       "<tf.Variable 'UnreadVariable' shape=(3, 3) dtype=float32, numpy=\n",
       "array([[2., 1., 2.],\n",
       "       [2., 2., 2.],\n",
       "       [2., 2., 2.]], dtype=float32)>"
      ]
     },
     "execution_count": 18,
     "metadata": {},
     "output_type": "execute_result"
    }
   ],
   "source": [
    "v.assign_add( tf.ones( (3,3)) )"
   ]
  },
  {
   "cell_type": "code",
   "execution_count": 19,
   "metadata": {},
   "outputs": [
    {
     "data": {
      "text/plain": [
       "<tf.Variable 'Variable:0' shape=(3, 3) dtype=float32, numpy=\n",
       "array([[1., 0., 1.],\n",
       "       [1., 1., 1.],\n",
       "       [1., 1., 1.]], dtype=float32)>"
      ]
     },
     "execution_count": 19,
     "metadata": {},
     "output_type": "execute_result"
    }
   ],
   "source": [
    "v.assign_sub( tf.ones( (3,3) ) )\n",
    "v"
   ]
  },
  {
   "cell_type": "markdown",
   "metadata": {
    "colab_type": "text"
   },
   "source": [
    "#### Tensor operations: Doing math in TensorFlow"
   ]
  },
  {
   "cell_type": "markdown",
   "metadata": {
    "colab_type": "text"
   },
   "source": [
    "**A few basic math operations**"
   ]
  },
  {
   "cell_type": "code",
   "execution_count": 20,
   "metadata": {
    "colab_type": "code"
   },
   "outputs": [],
   "source": [
    "# a = tf.ones((2, 2))\n",
    "# b = tf.square(a)\n",
    "# c = tf.sqrt(a)\n",
    "# d = b + c\n",
    "# e = tf.matmul(a, b)\n",
    "# e *= d"
   ]
  },
  {
   "cell_type": "code",
   "execution_count": 21,
   "metadata": {},
   "outputs": [
    {
     "name": "stderr",
     "output_type": "stream",
     "text": [
      "2023-08-19 18:34:52.145181: I tensorflow/compiler/xla/stream_executor/cuda/cuda_blas.cc:606] TensorFloat-32 will be used for the matrix multiplication. This will only be logged once.\n"
     ]
    },
    {
     "data": {
      "text/plain": [
       "<tf.Tensor: shape=(3, 3), dtype=float32, numpy=\n",
       "array([[972., 972., 972.],\n",
       "       [972., 972., 972.],\n",
       "       [972., 972., 972.]], dtype=float32)>"
      ]
     },
     "execution_count": 21,
     "metadata": {},
     "output_type": "execute_result"
    }
   ],
   "source": [
    "a = tf.ones((3,3)) + 2.\n",
    "b = tf.square(a)\n",
    "a\n",
    "b\n",
    "c = tf.sqrt(b)\n",
    "c\n",
    "d = b+c\n",
    "d\n",
    "e = tf.matmul(a,b)\n",
    "e\n",
    "e *=d\n",
    "e"
   ]
  },
  {
   "cell_type": "markdown",
   "metadata": {
    "colab_type": "text"
   },
   "source": [
    "#### A second look at the GradientTape API"
   ]
  },
  {
   "cell_type": "markdown",
   "metadata": {
    "colab_type": "text"
   },
   "source": [
    "**Using the `GradientTape`**"
   ]
  },
  {
   "cell_type": "code",
   "execution_count": 22,
   "metadata": {
    "colab_type": "code"
   },
   "outputs": [],
   "source": [
    "# input_var = tf.Variable(initial_value=3.)\n",
    "# with tf.GradientTape() as tape:\n",
    "#    result = tf.square(input_var)\n",
    "# gradient = tape.gradient(result, input_var)"
   ]
  },
  {
   "cell_type": "code",
   "execution_count": 23,
   "metadata": {},
   "outputs": [
    {
     "data": {
      "text/plain": [
       "<tf.Tensor: shape=(), dtype=float32, numpy=5.0>"
      ]
     },
     "execution_count": 23,
     "metadata": {},
     "output_type": "execute_result"
    }
   ],
   "source": [
    "inp_var = tf.Variable(2.5)\n",
    "inp_var\n",
    "with tf.GradientTape() as tape:\n",
    "    y = tf.square(inp_var)\n",
    "\n",
    "grad = tape.gradient(y,inp_var)\n",
    "grad"
   ]
  },
  {
   "cell_type": "markdown",
   "metadata": {
    "colab_type": "text"
   },
   "source": [
    "**Using `GradientTape` with constant tensor inputs**"
   ]
  },
  {
   "cell_type": "code",
   "execution_count": 24,
   "metadata": {
    "colab_type": "code"
   },
   "outputs": [],
   "source": [
    "# input_const = tf.constant(3.)\n",
    "# with tf.GradientTape() as tape:\n",
    "#    tape.watch(input_const)\n",
    "#    result = tf.square(input_const)\n",
    "# gradient = tape.gradient(result, input_const)\n",
    "# gradient"
   ]
  },
  {
   "cell_type": "markdown",
   "metadata": {},
   "source": [
    "# Note by me - any variable that is explicitly made to be watch()'ed by tape is, practically, treated as a variable."
   ]
  },
  {
   "cell_type": "code",
   "execution_count": 25,
   "metadata": {},
   "outputs": [
    {
     "data": {
      "text/plain": [
       "<tf.Tensor: shape=(), dtype=float32, numpy=10.4>"
      ]
     },
     "execution_count": 25,
     "metadata": {},
     "output_type": "execute_result"
    }
   ],
   "source": [
    "inp_const = tf.constant(5.2)\n",
    "with tf.GradientTape() as tape:\n",
    "    tape.watch(inp_const)\n",
    "    y = tf.square(inp_const)\n",
    "grad = tape.gradient(y,inp_const)\n",
    "grad"
   ]
  },
  {
   "cell_type": "markdown",
   "metadata": {
    "colab_type": "text"
   },
   "source": [
    "**Using nested gradient tapes to compute second-order gradients**"
   ]
  },
  {
   "cell_type": "code",
   "execution_count": 26,
   "metadata": {
    "colab_type": "code"
   },
   "outputs": [],
   "source": [
    "# time = tf.Variable(0.)\n",
    "# with tf.GradientTape() as outer_tape:\n",
    "#     with tf.GradientTape() as inner_tape:\n",
    "#         position =  4.9 * time ** 2\n",
    "#     speed = inner_tape.gradient(position, time)\n",
    "# acceleration = outer_tape.gradient(speed, time)"
   ]
  },
  {
   "cell_type": "code",
   "execution_count": 27,
   "metadata": {},
   "outputs": [
    {
     "name": "stdout",
     "output_type": "stream",
     "text": [
      "tf.Tensor(23.52, shape=(), dtype=float32)\n",
      "tf.Tensor(9.8, shape=(), dtype=float32)\n"
     ]
    }
   ],
   "source": [
    "t = tf.Variable(2.4)\n",
    "with tf.GradientTape() as outer_tape:\n",
    "    with tf.GradientTape() as inner_tape:\n",
    "        dist = 4.9 * t**2\n",
    "    vel = inner_tape.gradient(dist, t)\n",
    "acc = outer_tape.gradient(vel,t)\n",
    "print(vel)\n",
    "print(acc)"
   ]
  },
  {
   "cell_type": "markdown",
   "metadata": {
    "colab_type": "text"
   },
   "source": [
    "#### An end-to-end example: A linear classifier in pure TensorFlow"
   ]
  },
  {
   "cell_type": "markdown",
   "metadata": {
    "colab_type": "text"
   },
   "source": [
    "**Generating two classes of random points in a 2D plane**"
   ]
  },
  {
   "cell_type": "code",
   "execution_count": 28,
   "metadata": {
    "colab_type": "code"
   },
   "outputs": [],
   "source": [
    "# num_samples_per_class = 1000\n",
    "# negative_samples = np.random.multivariate_normal(\n",
    "#     mean=[0, 3],\n",
    "#     cov=[[1, 0.5],[0.5, 1]],\n",
    "#     size=num_samples_per_class)\n",
    "# positive_samples = np.random.multivariate_normal(\n",
    "#     mean=[3, 0],\n",
    "#     cov=[[1, 0.5],[0.5, 1]],\n",
    "#     size=num_samples_per_class)"
   ]
  },
  {
   "cell_type": "markdown",
   "metadata": {},
   "source": [
    "### Note - if we increase the mean of the normal, say, from 3 to 5, the training becomes unstable and loss diverges to \"infinity\"."
   ]
  },
  {
   "cell_type": "code",
   "execution_count": 29,
   "metadata": {},
   "outputs": [],
   "source": [
    "num_samples_per_class = 1000\n",
    "pos_samples = np.random.multivariate_normal(mean=[0,3], cov=[ [1,0.5], [0.5,1.]], size=num_samples_per_class)\n",
    "neg_samples = np.random.multivariate_normal(mean=[3,0], cov=[ [1,0.5], [0.5,1.]], size=num_samples_per_class)\n"
   ]
  },
  {
   "cell_type": "markdown",
   "metadata": {
    "colab_type": "text"
   },
   "source": [
    "**Stacking the two classes into an array with shape (2000, 2)**"
   ]
  },
  {
   "cell_type": "markdown",
   "metadata": {},
   "source": [
    "# Array merging operations - From documentation -\n",
    "--------\n",
    "concatenate : Join a sequence of arrays along an existing axis. </br>\n",
    "stack : Join a sequence of arrays along a new axis. </br>\n",
    "block : Assemble an nd-array from nested lists of blocks. </br>\n",
    "hstack : Stack arrays in sequence horizontally (column wise). </br>\n",
    "vstack : Stack arrays in sequence vertically (row wise). </br>\n",
    "dstack : Stack arrays in sequence depth wise (along third axis). </br>\n",
    "column_stack : Stack 1-D arrays as columns into a 2-D array. </br>\n",
    "hsplit : Split an array into multiple sub-arrays horizontally (column-wise). </br>\n",
    "vsplit : Split an array into multiple sub-arrays vertically (row-wise). </br>\n"
   ]
  },
  {
   "cell_type": "code",
   "execution_count": 30,
   "metadata": {},
   "outputs": [
    {
     "name": "stdout",
     "output_type": "stream",
     "text": [
      "arr_stk -> axis = 0, shape = (2, 3, 4)\n",
      "arr_stk -> axis = 1, shape = (3, 2, 4)\n",
      "arr_stk -> axis = 2, shape = (3, 4, 2)\n",
      "arr_concat -> axis = 0, shape = (6, 4)\n",
      "arr_concat -> axis = 1, shape = (3, 8)\n",
      "arr_vstk.shape = (6, 4)\n",
      "arr_hstk.shape = (3, 8)\n"
     ]
    }
   ],
   "source": [
    "arr1 = np.ones((3,4))\n",
    "arr2 = 4*np.ones((3,4))\n",
    "arr1\n",
    "arr2\n",
    "for axis in range(len(arr1.shape)+1):\n",
    "    arr_stk = np.stack([arr1,arr2],axis=axis)\n",
    "    print(f\"arr_stk -> axis = {axis}, shape = {arr_stk.shape}\")\n",
    "for axis in range(len(arr1.shape)):\n",
    "    arr_concat = np.concatenate([arr1,arr2],axis=axis)\n",
    "    print(f\"arr_concat -> axis = {axis}, shape = {arr_concat.shape}\")\n",
    "\n",
    "# vstack adds along rows\n",
    "arr_vstk = np.vstack([arr1,arr2])\n",
    "print(f\"arr_vstk.shape = {arr_vstk.shape}\")\n",
    "# hstack adds along cols\n",
    "arr_hstk = np.hstack([arr1,arr2])\n",
    "print(f\"arr_hstk.shape = {arr_hstk.shape}\")"
   ]
  },
  {
   "cell_type": "markdown",
   "metadata": {},
   "source": [
    "### numpy.block()"
   ]
  },
  {
   "cell_type": "code",
   "execution_count": 31,
   "metadata": {},
   "outputs": [
    {
     "name": "stdout",
     "output_type": "stream",
     "text": [
      "[[2. 0. 0. 0. 0.]\n",
      " [0. 2. 0. 0. 0.]\n",
      " [1. 1. 3. 0. 0.]\n",
      " [1. 1. 0. 3. 0.]\n",
      " [1. 1. 0. 0. 3.]]\n",
      "[ 1  2  3  4  5  6 10]\n",
      "[[1 2 3]\n",
      " [4 5 6]]\n"
     ]
    }
   ],
   "source": [
    "A = np.eye(2) * 2\n",
    "B = np.eye(3) * 3\n",
    "C = np.block([\n",
    "    [A,               np.zeros((2, 3))],\n",
    "\n",
    "    [np.ones((3, 2)), B               ]\n",
    "\n",
    "])\n",
    "print(C)\n",
    "\n",
    "# using block for hstack-ing\n",
    "# With a list of depth 1, block can be used as hstack\n",
    "a = np.array([1, 2, 3])\n",
    "b = np.array([4, 5, 6])\n",
    "print(np.block([a, b, 10]))             # hstack([a, b, 10])\n",
    "\n",
    "\n",
    "# With a list of depth 2, block can be used in place of vstack:\n",
    "a = np.array([1, 2, 3])\n",
    "b = np.array([4, 5, 6])\n",
    "print(np.block([[a], [b]]) )             # vstack([a, b])"
   ]
  },
  {
   "cell_type": "markdown",
   "metadata": {},
   "source": [
    "### np.tile()"
   ]
  },
  {
   "cell_type": "code",
   "execution_count": 32,
   "metadata": {},
   "outputs": [
    {
     "data": {
      "text/plain": [
       "array([[[0, 1, 2, 0, 1, 2]],\n",
       "\n",
       "       [[0, 1, 2, 0, 1, 2]]])"
      ]
     },
     "execution_count": 32,
     "metadata": {},
     "output_type": "execute_result"
    }
   ],
   "source": [
    "a = np.array([0, 1, 2])\n",
    "\n",
    "np.tile(a, 2)\n",
    "\n",
    "np.tile(a, (2, 2))\n",
    "np.tile(a, (2, 1, 2))\n"
   ]
  },
  {
   "cell_type": "code",
   "execution_count": 33,
   "metadata": {
    "colab_type": "code"
   },
   "outputs": [],
   "source": [
    "# inputs = np.vstack((negative_samples, positive_samples)).astype(np.float32)"
   ]
  },
  {
   "cell_type": "code",
   "execution_count": 34,
   "metadata": {},
   "outputs": [
    {
     "data": {
      "text/plain": [
       "array([[ 4.40627763,  0.05630109],\n",
       "       [ 1.10726214, -0.4094524 ],\n",
       "       [ 3.67867663, -0.75757719],\n",
       "       [ 2.91826808,  0.48370563],\n",
       "       [ 2.67504879,  1.75671888],\n",
       "       [ 5.48341137,  1.22365038],\n",
       "       [ 2.25352275, -0.78896489],\n",
       "       [ 2.6210306 ,  0.2543222 ],\n",
       "       [ 3.45102561, -0.78399689],\n",
       "       [ 1.75424663,  0.05143811]])"
      ]
     },
     "execution_count": 34,
     "metadata": {},
     "output_type": "execute_result"
    }
   ],
   "source": [
    "neg_samples.shape\n",
    "neg_samples[:10]"
   ]
  },
  {
   "cell_type": "code",
   "execution_count": 35,
   "metadata": {},
   "outputs": [],
   "source": [
    "inp_samples = np.vstack( (neg_samples, pos_samples) ).astype(np.float32)"
   ]
  },
  {
   "cell_type": "code",
   "execution_count": 36,
   "metadata": {},
   "outputs": [
    {
     "data": {
      "text/plain": [
       "(2000, 2)"
      ]
     },
     "execution_count": 36,
     "metadata": {},
     "output_type": "execute_result"
    }
   ],
   "source": [
    "inp_samples.shape"
   ]
  },
  {
   "cell_type": "markdown",
   "metadata": {
    "colab_type": "text"
   },
   "source": [
    "**Generating the corresponding targets (0 and 1)**"
   ]
  },
  {
   "cell_type": "code",
   "execution_count": 37,
   "metadata": {
    "colab_type": "code"
   },
   "outputs": [],
   "source": [
    "# targets = np.vstack((np.zeros((num_samples_per_class, 1), dtype=\"float32\"),\n",
    "#                      np.ones((num_samples_per_class, 1), dtype=\"float32\")))"
   ]
  },
  {
   "cell_type": "code",
   "execution_count": 38,
   "metadata": {},
   "outputs": [],
   "source": [
    "# targets.shape"
   ]
  },
  {
   "cell_type": "code",
   "execution_count": 39,
   "metadata": {},
   "outputs": [
    {
     "data": {
      "text/plain": [
       "(2000, 2)"
      ]
     },
     "execution_count": 39,
     "metadata": {},
     "output_type": "execute_result"
    }
   ],
   "source": [
    "np.zeros_like( inp_samples ).shape"
   ]
  },
  {
   "cell_type": "code",
   "execution_count": 40,
   "metadata": {},
   "outputs": [
    {
     "data": {
      "text/plain": [
       "(1000,)"
      ]
     },
     "execution_count": 40,
     "metadata": {},
     "output_type": "execute_result"
    }
   ],
   "source": [
    "neg_samples[:,0].shape"
   ]
  },
  {
   "cell_type": "code",
   "execution_count": 41,
   "metadata": {},
   "outputs": [],
   "source": [
    "inp_labels = np.vstack( ( np.zeros_like( neg_samples[:,0],dtype=\"float32\" )[:,np.newaxis], np.ones_like( pos_samples[:,0],dtype=\"float32\")[:,np.newaxis] ) )"
   ]
  },
  {
   "cell_type": "code",
   "execution_count": 42,
   "metadata": {},
   "outputs": [
    {
     "data": {
      "text/plain": [
       "(2000, 1)"
      ]
     },
     "execution_count": 42,
     "metadata": {},
     "output_type": "execute_result"
    }
   ],
   "source": [
    "inp_labels.shape"
   ]
  },
  {
   "cell_type": "markdown",
   "metadata": {
    "colab_type": "text"
   },
   "source": [
    "**Plotting the two point classes**"
   ]
  },
  {
   "cell_type": "code",
   "execution_count": 43,
   "metadata": {
    "colab_type": "code"
   },
   "outputs": [],
   "source": [
    "# import matplotlib.pyplot as plt\n",
    "# plt.scatter(inputs[:, 0], inputs[:, 1], c=targets[:, 0])\n",
    "# plt.show()"
   ]
  },
  {
   "cell_type": "code",
   "execution_count": 44,
   "metadata": {},
   "outputs": [
    {
     "data": {
      "image/png": "[encoded data removed]",
      "text/plain": [
       "<Figure size 640x480 with 1 Axes>"
      ]
     },
     "metadata": {},
     "output_type": "display_data"
    }
   ],
   "source": [
    "import matplotlib.pyplot as plt\n",
    "plt.scatter(inp_samples[:,0], inp_samples[:,1], c=inp_labels[:,0])\n",
    "plt.show()"
   ]
  },
  {
   "cell_type": "markdown",
   "metadata": {
    "colab_type": "text"
   },
   "source": [
    "**Creating the linear classifier variables**"
   ]
  },
  {
   "cell_type": "code",
   "execution_count": 45,
   "metadata": {
    "colab_type": "code"
   },
   "outputs": [],
   "source": [
    "# input_dim = 2\n",
    "# output_dim = 1\n",
    "# W = tf.Variable(initial_value=tf.random.uniform(shape=(input_dim, output_dim)))\n",
    "# b = tf.Variable(initial_value=tf.zeros(shape=(output_dim,)))"
   ]
  },
  {
   "cell_type": "code",
   "execution_count": 46,
   "metadata": {},
   "outputs": [],
   "source": [
    "inp_dim = 2\n",
    "out_dim = 1\n",
    "w = tf.Variable(tf.random.uniform(shape=(inp_dim, out_dim)))\n",
    "b = tf.Variable(tf.random.uniform(shape=(out_dim,)))"
   ]
  },
  {
   "cell_type": "code",
   "execution_count": 47,
   "metadata": {},
   "outputs": [
    {
     "data": {
      "text/plain": [
       "<tf.Variable 'Variable:0' shape=(2, 1) dtype=float32, numpy=\n",
       "array([[0.28029704],\n",
       "       [0.48419774]], dtype=float32)>"
      ]
     },
     "execution_count": 47,
     "metadata": {},
     "output_type": "execute_result"
    }
   ],
   "source": [
    "w"
   ]
  },
  {
   "cell_type": "markdown",
   "metadata": {
    "colab_type": "text"
   },
   "source": [
    "**The forward pass function**"
   ]
  },
  {
   "cell_type": "code",
   "execution_count": 48,
   "metadata": {
    "colab_type": "code"
   },
   "outputs": [],
   "source": [
    "# def model(inputs):\n",
    "#     return tf.matmul(inputs, W) + b"
   ]
  },
  {
   "cell_type": "code",
   "execution_count": 49,
   "metadata": {},
   "outputs": [],
   "source": [
    "def model(inputs):\n",
    "    global w,b\n",
    "    return tf.matmul(inputs, w) + b"
   ]
  },
  {
   "cell_type": "markdown",
   "metadata": {
    "colab_type": "text"
   },
   "source": [
    "**The mean squared error loss function**"
   ]
  },
  {
   "cell_type": "code",
   "execution_count": 50,
   "metadata": {
    "colab_type": "code"
   },
   "outputs": [],
   "source": [
    "# def square_loss(targets, predictions):\n",
    "#     per_sample_losses = tf.square(targets - predictions)\n",
    "#     return tf.reduce_mean(per_sample_losses)"
   ]
  },
  {
   "cell_type": "code",
   "execution_count": 51,
   "metadata": {},
   "outputs": [],
   "source": [
    "def mse_loss(preds, labels):\n",
    "    loss_batch = tf.square(labels - preds)\n",
    "    return tf.reduce_mean(loss_batch)"
   ]
  },
  {
   "cell_type": "markdown",
   "metadata": {
    "colab_type": "text"
   },
   "source": [
    "**The training step function**"
   ]
  },
  {
   "cell_type": "code",
   "execution_count": 52,
   "metadata": {
    "colab_type": "code"
   },
   "outputs": [],
   "source": [
    "# learning_rate = 0.1\n",
    "\n",
    "# def training_step(inputs, targets):\n",
    "#     with tf.GradientTape() as tape:\n",
    "#         predictions = model(inputs)\n",
    "#         loss = square_loss(targets, predictions)\n",
    "#     grad_loss_wrt_W, grad_loss_wrt_b = tape.gradient(loss, [W, b])\n",
    "#     W.assign_sub(grad_loss_wrt_W * learning_rate)\n",
    "#     b.assign_sub(grad_loss_wrt_b * learning_rate)\n",
    "#     return loss"
   ]
  },
  {
   "cell_type": "code",
   "execution_count": 53,
   "metadata": {},
   "outputs": [],
   "source": [
    "lr = 0.1\n",
    "def training_step(inputs, labels):\n",
    "    global w, b\n",
    "    with tf.GradientTape() as tape:\n",
    "        preds = model(inputs)\n",
    "        loss = mse_loss(labels, preds)\n",
    "\n",
    "    grad = tape.gradient(loss, [w,b])\n",
    "    w.assign_sub( grad[0]*lr)\n",
    "    b.assign_sub( grad[1]*lr)\n",
    "    \n",
    "    return loss"
   ]
  },
  {
   "cell_type": "markdown",
   "metadata": {
    "colab_type": "text"
   },
   "source": [
    "**The batch training loop**"
   ]
  },
  {
   "cell_type": "code",
   "execution_count": 54,
   "metadata": {
    "colab_type": "code"
   },
   "outputs": [],
   "source": [
    "# for step in range(40):\n",
    "#     loss = training_step(inputs, targets)\n",
    "#     print(f\"Loss at step {step}: {loss:.4f}\")"
   ]
  },
  {
   "cell_type": "code",
   "execution_count": 55,
   "metadata": {},
   "outputs": [
    {
     "name": "stdout",
     "output_type": "stream",
     "text": [
      "loss at epoch 0 = 2.8359949588775635\n",
      "loss at epoch 1 = 0.42499059438705444\n",
      "loss at epoch 2 = 0.08734908699989319\n",
      "loss at epoch 3 = 0.038961559534072876\n",
      "loss at epoch 4 = 0.0316922701895237\n",
      "loss at epoch 5 = 0.030296895653009415\n",
      "loss at epoch 6 = 0.02976689487695694\n",
      "loss at epoch 7 = 0.02938826195895672\n",
      "loss at epoch 8 = 0.02905714139342308\n",
      "loss at epoch 9 = 0.028756560757756233\n",
      "loss at epoch 10 = 0.028482064604759216\n",
      "loss at epoch 11 = 0.02823115512728691\n",
      "loss at epoch 12 = 0.02800176851451397\n",
      "loss at epoch 13 = 0.027792058885097504\n",
      "loss at epoch 14 = 0.02760033681988716\n",
      "loss at epoch 15 = 0.02742505632340908\n",
      "loss at epoch 16 = 0.027264809235930443\n",
      "loss at epoch 17 = 0.02711830660700798\n",
      "loss at epoch 18 = 0.02698436938226223\n",
      "loss at epoch 19 = 0.026861920952796936\n",
      "loss at epoch 20 = 0.026749974116683006\n",
      "loss at epoch 21 = 0.026647629216313362\n",
      "loss at epoch 22 = 0.026554061099886894\n",
      "loss at epoch 23 = 0.026468517258763313\n",
      "loss at epoch 24 = 0.026390312239527702\n",
      "loss at epoch 25 = 0.026318814605474472\n",
      "loss at epoch 26 = 0.02625344879925251\n",
      "loss at epoch 27 = 0.026193687692284584\n",
      "loss at epoch 28 = 0.02613905631005764\n",
      "loss at epoch 29 = 0.026089107617735863\n",
      "loss at epoch 30 = 0.026043443009257317\n",
      "loss at epoch 31 = 0.026001695543527603\n",
      "loss at epoch 32 = 0.02596352994441986\n",
      "loss at epoch 33 = 0.025928637012839317\n",
      "loss at epoch 34 = 0.02589673362672329\n",
      "loss at epoch 35 = 0.02586757019162178\n",
      "loss at epoch 36 = 0.02584090828895569\n",
      "loss at epoch 37 = 0.025816529989242554\n",
      "loss at epoch 38 = 0.025794243440032005\n",
      "loss at epoch 39 = 0.025773869827389717\n"
     ]
    }
   ],
   "source": [
    "for epoch in range(40):\n",
    "    loss = training_step(inp_samples, inp_labels)\n",
    "    print(f\"loss at epoch {epoch} = {loss}\")"
   ]
  },
  {
   "cell_type": "code",
   "execution_count": 59,
   "metadata": {
    "colab_type": "code"
   },
   "outputs": [],
   "source": [
    "# predictions = model(inputs)\n",
    "# plt.scatter(inputs[:, 0], inputs[:, 1], c=predictions[:, 0] > 0.5)\n",
    "# plt.show()"
   ]
  },
  {
   "cell_type": "code",
   "execution_count": 58,
   "metadata": {},
   "outputs": [
    {
     "data": {
      "text/plain": [
       "<matplotlib.collections.PathCollection at 0x7fa2cc1f25b0>"
      ]
     },
     "execution_count": 58,
     "metadata": {},
     "output_type": "execute_result"
    },
    {
     "data": {
      "image/png": "[encoded data removed]",
      "text/plain": [
       "<Figure size 640x480 with 1 Axes>"
      ]
     },
     "metadata": {},
     "output_type": "display_data"
    }
   ],
   "source": [
    "preds = model(inp_samples)\n",
    "plt.scatter(inp_samples[:,0], inp_samples[:,1], c=preds[:,0] > 0.5)"
   ]
  },
  {
   "cell_type": "markdown",
   "metadata": {},
   "source": [
    "# Not clear how the boundary is drawn"
   ]
  },
  {
   "cell_type": "code",
   "execution_count": null,
   "metadata": {
    "colab_type": "code"
   },
   "outputs": [],
   "source": [
    "x = np.linspace(-1, 4, 100)\n",
    "y = - W[0] /  W[1] * x + (0.5 - b) / W[1]\n",
    "plt.plot(x, y, \"-r\")\n",
    "plt.scatter(inputs[:, 0], inputs[:, 1], c=predictions[:, 0] > 0.5)"
   ]
  },
  {
   "cell_type": "code",
   "execution_count": 64,
   "metadata": {},
   "outputs": [
    {
     "data": {
      "text/plain": [
       "<matplotlib.collections.PathCollection at 0x7fa2a4593280>"
      ]
     },
     "execution_count": 64,
     "metadata": {},
     "output_type": "execute_result"
    },
    {
     "data": {
      "image/png": "[encoded data removed]",
      "text/plain": [
       "<Figure size 640x480 with 1 Axes>"
      ]
     },
     "metadata": {},
     "output_type": "display_data"
    }
   ],
   "source": [
    "x = np.linspace(-1, 4, 100)\n",
    "y = - w[0] /  w[1] * x + (0.5 - b) / w[1]\n",
    "plt.plot(x, y, \"-r\")\n",
    "plt.scatter(inp_samples[:, 0], inp_samples[:, 1], c=preds[:, 0] > 0.5)"
   ]
  },
  {
   "cell_type": "markdown",
   "metadata": {
    "colab_type": "text"
   },
   "source": [
    "## Anatomy of a neural network: Understanding core Keras APIs"
   ]
  },
  {
   "cell_type": "markdown",
   "metadata": {
    "colab_type": "text"
   },
   "source": [
    "### Layers: The building blocks of deep learning"
   ]
  },
  {
   "cell_type": "markdown",
   "metadata": {
    "colab_type": "text"
   },
   "source": [
    "#### The base Layer class in Keras"
   ]
  },
  {
   "cell_type": "markdown",
   "metadata": {
    "colab_type": "text"
   },
   "source": [
    "**A `Dense` layer implemented as a `Layer` subclass**"
   ]
  },
  {
   "cell_type": "code",
   "execution_count": null,
   "metadata": {
    "colab_type": "code"
   },
   "outputs": [],
   "source": [
    "# from tensorflow import keras\n",
    "\n",
    "# class SimpleDense(keras.layers.Layer):\n",
    "\n",
    "#     def __init__(self, units, activation=None):\n",
    "#         super().__init__()\n",
    "#         self.units = units\n",
    "#         self.activation = activation\n",
    "\n",
    "#     def build(self, input_shape):\n",
    "#         input_dim = input_shape[-1]\n",
    "#         self.W = self.add_weight(shape=(input_dim, self.units),\n",
    "#                                  initializer=\"random_normal\")\n",
    "#         self.b = self.add_weight(shape=(self.units,),\n",
    "#                                  initializer=\"zeros\")\n",
    "\n",
    "#     def call(self, inputs):\n",
    "#         y = tf.matmul(inputs, self.W) + self.b\n",
    "#         if self.activation is not None:\n",
    "#             y = self.activation(y)\n",
    "#         return y"
   ]
  },
  {
   "cell_type": "markdown",
   "metadata": {},
   "source": [
    "# Note- \n",
    "https://datascience.stackexchange.com/questions/82860/what-is-the-use-of-function-build-in-custom-layers-in-tensorflow-keras\n",
    "\n",
    "build is called by the __call__ function which is implemented in the parent Layer class.\n",
    "\n",
    "From the TF docs: https://www.tensorflow.org/api_docs/python/tf/keras/layers/Layer\n",
    "\n",
    "\"build(self, input_shape): This method can be used to create weights that depend on the shape(s) of the input(s), using add_weight(). __call__() will automatically build the layer (if it has not been built yet) by calling build().\"\n"
   ]
  },
  {
   "cell_type": "code",
   "execution_count": 66,
   "metadata": {},
   "outputs": [],
   "source": [
    "from tensorflow import keras\n",
    "\n",
    "class SimpleDenseLayer(keras.layers.Layer):\n",
    "    def __init__(self, units, activation):\n",
    "        super().__init__()\n",
    "        self.units = units\n",
    "        self.activation = activation\n",
    "    \n",
    "    def build(self, input_shape):\n",
    "        input_dim = input.shape[-1]\n",
    "        self.w = self.add_weight(shape=(input_dim,self.units), initializer='random_normal' )\n",
    "        self.b = self.add_weight(shape=(self.units,), initializer='random_normal')\n",
    "        \n",
    "    def call(self, inputs):\n",
    "        y = tf.matmul(inputs, self.w) + self.b\n",
    "        if self.activation is not None:\n",
    "            y = self.activation(y)\n",
    "        return y"
   ]
  },
  {
   "cell_type": "code",
   "execution_count": 68,
   "metadata": {
    "colab_type": "code"
   },
   "outputs": [],
   "source": [
    "# my_dense = SimpleDense(units=32, activation=tf.nn.relu)\n",
    "# input_tensor = tf.ones(shape=(2, 784))\n",
    "# output_tensor = my_dense(input_tensor)\n",
    "# print(output_tensor.shape)"
   ]
  },
  {
   "cell_type": "code",
   "execution_count": 67,
   "metadata": {},
   "outputs": [
    {
     "data": {
      "text/plain": [
       "TensorShape([2, 64])"
      ]
     },
     "execution_count": 67,
     "metadata": {},
     "output_type": "execute_result"
    }
   ],
   "source": [
    "dense_mine = SimpleDenseLayer(units=64, activation=tf.nn.relu)\n",
    "input = tf.ones((2,784))\n",
    "output = dense_mine(input)\n",
    "output.shape"
   ]
  },
  {
   "cell_type": "markdown",
   "metadata": {
    "colab_type": "text"
   },
   "source": [
    "#### Automatic shape inference: Building layers on the fly"
   ]
  },
  {
   "cell_type": "code",
   "execution_count": 71,
   "metadata": {
    "colab_type": "code"
   },
   "outputs": [],
   "source": [
    "# from tensorflow.keras import layers\n",
    "# layer = layers.Dense(32, activation=\"relu\")"
   ]
  },
  {
   "cell_type": "code",
   "execution_count": 70,
   "metadata": {},
   "outputs": [],
   "source": [
    "from tensorflow.keras import layers\n",
    "l = layers.Dense(32, activation='relu')"
   ]
  },
  {
   "cell_type": "code",
   "execution_count": 73,
   "metadata": {
    "colab_type": "code"
   },
   "outputs": [],
   "source": [
    "# from tensorflow.keras import models\n",
    "# from tensorflow.keras import layers\n",
    "# model = models.Sequential([\n",
    "#     layers.Dense(32, activation=\"relu\"),\n",
    "#     layers.Dense(32)\n",
    "# ])"
   ]
  },
  {
   "cell_type": "code",
   "execution_count": 72,
   "metadata": {},
   "outputs": [],
   "source": [
    "from tensorflow.keras import models, layers\n",
    "model = models.Sequential(\n",
    "    [\n",
    "        layers.Dense(32, activation='relu'),\n",
    "        layers.Dense(32)\n",
    "    ]\n",
    ")"
   ]
  },
  {
   "cell_type": "code",
   "execution_count": null,
   "metadata": {
    "colab_type": "code"
   },
   "outputs": [],
   "source": [
    "# model = keras.Sequential([\n",
    "#     SimpleDense(32, activation=\"relu\"),\n",
    "#     SimpleDense(64, activation=\"relu\"),\n",
    "#     SimpleDense(32, activation=\"relu\"),\n",
    "#     SimpleDense(10, activation=\"softmax\")\n",
    "# ])"
   ]
  },
  {
   "cell_type": "code",
   "execution_count": 74,
   "metadata": {},
   "outputs": [],
   "source": [
    "model = keras.Sequential(\n",
    "    [\n",
    "        SimpleDenseLayer(32, activation='relu'),\n",
    "        SimpleDenseLayer(64, activation='relu'),\n",
    "        SimpleDenseLayer(128, activation='relu'),\n",
    "        SimpleDenseLayer(64, activation='relu'),\n",
    "        SimpleDenseLayer(32, activation='relu'),\n",
    "        SimpleDenseLayer(10, activation='softmax')\n",
    "    ]\n",
    ")"
   ]
  },
  {
   "cell_type": "markdown",
   "metadata": {
    "colab_type": "text"
   },
   "source": [
    "### From layers to models"
   ]
  },
  {
   "cell_type": "markdown",
   "metadata": {
    "colab_type": "text"
   },
   "source": [
    "### The \"compile\" step: Configuring the learning process"
   ]
  },
  {
   "cell_type": "code",
   "execution_count": 76,
   "metadata": {
    "colab_type": "code"
   },
   "outputs": [],
   "source": [
    "# model = keras.Sequential([keras.layers.Dense(1)])\n",
    "# model.compile(optimizer=\"rmsprop\",\n",
    "#               loss=\"mean_squared_error\",\n",
    "#               metrics=[\"accuracy\"])"
   ]
  },
  {
   "cell_type": "code",
   "execution_count": 81,
   "metadata": {},
   "outputs": [],
   "source": [
    "# model = keras.Sequential( [keras.layers.Dense(16),\n",
    "#                            keras.layers.Dense(32)] )\n",
    "model = keras.Sequential( keras.layers.Dense(1) )\n",
    "model.compile(optimizer='adam', loss='mean_squared_error', metrics=['accuracy'])"
   ]
  },
  {
   "cell_type": "code",
   "execution_count": 82,
   "metadata": {
    "colab_type": "code"
   },
   "outputs": [],
   "source": [
    "# model.compile(optimizer=keras.optimizers.RMSprop(),\n",
    "#               loss=keras.losses.MeanSquaredError(),\n",
    "#               metrics=[keras.metrics.BinaryAccuracy()])"
   ]
  },
  {
   "cell_type": "code",
   "execution_count": 83,
   "metadata": {},
   "outputs": [],
   "source": [
    "model.compile(optimizer=keras.optimizers.Adam(), loss=keras.losses.MeanSquaredError, metrics=[keras.metrics.BinaryAccuracy()])"
   ]
  },
  {
   "cell_type": "markdown",
   "metadata": {
    "colab_type": "text"
   },
   "source": [
    "### Picking a loss function"
   ]
  },
  {
   "cell_type": "markdown",
   "metadata": {
    "colab_type": "text"
   },
   "source": [
    "### Understanding the fit() method"
   ]
  },
  {
   "cell_type": "markdown",
   "metadata": {
    "colab_type": "text"
   },
   "source": [
    "**Calling `fit()` with NumPy data**"
   ]
  },
  {
   "cell_type": "code",
   "execution_count": 84,
   "metadata": {
    "colab_type": "code"
   },
   "outputs": [
    {
     "name": "stdout",
     "output_type": "stream",
     "text": [
      "Epoch 1/5\n"
     ]
    },
    {
     "ename": "TypeError",
     "evalue": "in user code:\n\n    File \"/home/aman/anaconda3/envs/tf_py3.9/lib/python3.9/site-packages/keras/src/engine/training.py\", line 1338, in train_function  *\n        return step_function(self, iterator)\n    File \"/home/aman/anaconda3/envs/tf_py3.9/lib/python3.9/site-packages/keras/src/engine/training.py\", line 1322, in step_function  **\n        outputs = model.distribute_strategy.run(run_step, args=(data,))\n    File \"/home/aman/anaconda3/envs/tf_py3.9/lib/python3.9/site-packages/keras/src/engine/training.py\", line 1303, in run_step  **\n        outputs = model.train_step(data)\n    File \"/home/aman/anaconda3/envs/tf_py3.9/lib/python3.9/site-packages/keras/src/engine/training.py\", line 1081, in train_step\n        loss = self.compute_loss(x, y, y_pred, sample_weight)\n    File \"/home/aman/anaconda3/envs/tf_py3.9/lib/python3.9/site-packages/keras/src/engine/training.py\", line 1139, in compute_loss\n        return self.compiled_loss(\n    File \"/home/aman/anaconda3/envs/tf_py3.9/lib/python3.9/site-packages/keras/src/engine/compile_utils.py\", line 265, in __call__\n        loss_value = loss_obj(y_t, y_p, sample_weight=sw)\n    File \"/home/aman/anaconda3/envs/tf_py3.9/lib/python3.9/site-packages/keras/src/losses.py\", line 142, in __call__\n        losses = call_fn(y_true, y_pred)\n    File \"/home/aman/anaconda3/envs/tf_py3.9/lib/python3.9/site-packages/keras/src/losses.py\", line 268, in call  **\n        return ag_fn(y_true, y_pred, **self._fn_kwargs)\n    File \"/home/aman/anaconda3/envs/tf_py3.9/lib/python3.9/site-packages/keras/src/losses.py\", line 358, in __init__  **\n        super().__init__(mean_squared_error, name=name, reduction=reduction)\n    File \"/home/aman/anaconda3/envs/tf_py3.9/lib/python3.9/site-packages/keras/src/losses.py\", line 246, in __init__\n        super().__init__(reduction=reduction, name=name)\n    File \"/home/aman/anaconda3/envs/tf_py3.9/lib/python3.9/site-packages/keras/src/losses.py\", line 83, in __init__\n        losses_utils.ReductionV2.validate(reduction)\n    File \"/home/aman/anaconda3/envs/tf_py3.9/lib/python3.9/site-packages/keras/src/utils/losses_utils.py\", line 87, in validate\n        if key not in cls.all():\n\n    TypeError: Expected float32 passed to parameter 'y' of op 'Equal', got 'auto' of type 'str' instead. Error: Expected float32, but got auto of type 'str'.\n",
     "output_type": "error",
     "traceback": [
      "\u001b[0;31m---------------------------------------------------------------------------\u001b[0m",
      "\u001b[0;31mTypeError\u001b[0m                                 Traceback (most recent call last)",
      "Cell \u001b[0;32mIn[84], line 1\u001b[0m\n\u001b[0;32m----> 1\u001b[0m history \u001b[38;5;241m=\u001b[39m \u001b[43mmodel\u001b[49m\u001b[38;5;241;43m.\u001b[39;49m\u001b[43mfit\u001b[49m\u001b[43m(\u001b[49m\n\u001b[1;32m      2\u001b[0m \u001b[43m    \u001b[49m\u001b[43minp_samples\u001b[49m\u001b[43m,\u001b[49m\n\u001b[1;32m      3\u001b[0m \u001b[43m    \u001b[49m\u001b[43minp_labels\u001b[49m\u001b[43m,\u001b[49m\n\u001b[1;32m      4\u001b[0m \u001b[43m    \u001b[49m\u001b[43mepochs\u001b[49m\u001b[38;5;241;43m=\u001b[39;49m\u001b[38;5;241;43m5\u001b[39;49m\u001b[43m,\u001b[49m\n\u001b[1;32m      5\u001b[0m \u001b[43m    \u001b[49m\u001b[43mbatch_size\u001b[49m\u001b[38;5;241;43m=\u001b[39;49m\u001b[38;5;241;43m128\u001b[39;49m\n\u001b[1;32m      6\u001b[0m \u001b[43m)\u001b[49m\n",
      "File \u001b[0;32m~/anaconda3/envs/tf_py3.9/lib/python3.9/site-packages/keras/src/utils/traceback_utils.py:70\u001b[0m, in \u001b[0;36mfilter_traceback.<locals>.error_handler\u001b[0;34m(*args, **kwargs)\u001b[0m\n\u001b[1;32m     67\u001b[0m     filtered_tb \u001b[38;5;241m=\u001b[39m _process_traceback_frames(e\u001b[38;5;241m.\u001b[39m__traceback__)\n\u001b[1;32m     68\u001b[0m     \u001b[38;5;66;03m# To get the full stack trace, call:\u001b[39;00m\n\u001b[1;32m     69\u001b[0m     \u001b[38;5;66;03m# `tf.debugging.disable_traceback_filtering()`\u001b[39;00m\n\u001b[0;32m---> 70\u001b[0m     \u001b[38;5;28;01mraise\u001b[39;00m e\u001b[38;5;241m.\u001b[39mwith_traceback(filtered_tb) \u001b[38;5;28;01mfrom\u001b[39;00m \u001b[38;5;28;01mNone\u001b[39;00m\n\u001b[1;32m     71\u001b[0m \u001b[38;5;28;01mfinally\u001b[39;00m:\n\u001b[1;32m     72\u001b[0m     \u001b[38;5;28;01mdel\u001b[39;00m filtered_tb\n",
      "File \u001b[0;32m/tmp/__autograph_generated_filezsml61n_.py:15\u001b[0m, in \u001b[0;36mouter_factory.<locals>.inner_factory.<locals>.tf__train_function\u001b[0;34m(iterator)\u001b[0m\n\u001b[1;32m     13\u001b[0m \u001b[38;5;28;01mtry\u001b[39;00m:\n\u001b[1;32m     14\u001b[0m     do_return \u001b[38;5;241m=\u001b[39m \u001b[38;5;28;01mTrue\u001b[39;00m\n\u001b[0;32m---> 15\u001b[0m     retval_ \u001b[38;5;241m=\u001b[39m ag__\u001b[38;5;241m.\u001b[39mconverted_call(ag__\u001b[38;5;241m.\u001b[39mld(step_function), (ag__\u001b[38;5;241m.\u001b[39mld(\u001b[38;5;28mself\u001b[39m), ag__\u001b[38;5;241m.\u001b[39mld(iterator)), \u001b[38;5;28;01mNone\u001b[39;00m, fscope)\n\u001b[1;32m     16\u001b[0m \u001b[38;5;28;01mexcept\u001b[39;00m:\n\u001b[1;32m     17\u001b[0m     do_return \u001b[38;5;241m=\u001b[39m \u001b[38;5;28;01mFalse\u001b[39;00m\n",
      "\u001b[0;31mTypeError\u001b[0m: in user code:\n\n    File \"/home/aman/anaconda3/envs/tf_py3.9/lib/python3.9/site-packages/keras/src/engine/training.py\", line 1338, in train_function  *\n        return step_function(self, iterator)\n    File \"/home/aman/anaconda3/envs/tf_py3.9/lib/python3.9/site-packages/keras/src/engine/training.py\", line 1322, in step_function  **\n        outputs = model.distribute_strategy.run(run_step, args=(data,))\n    File \"/home/aman/anaconda3/envs/tf_py3.9/lib/python3.9/site-packages/keras/src/engine/training.py\", line 1303, in run_step  **\n        outputs = model.train_step(data)\n    File \"/home/aman/anaconda3/envs/tf_py3.9/lib/python3.9/site-packages/keras/src/engine/training.py\", line 1081, in train_step\n        loss = self.compute_loss(x, y, y_pred, sample_weight)\n    File \"/home/aman/anaconda3/envs/tf_py3.9/lib/python3.9/site-packages/keras/src/engine/training.py\", line 1139, in compute_loss\n        return self.compiled_loss(\n    File \"/home/aman/anaconda3/envs/tf_py3.9/lib/python3.9/site-packages/keras/src/engine/compile_utils.py\", line 265, in __call__\n        loss_value = loss_obj(y_t, y_p, sample_weight=sw)\n    File \"/home/aman/anaconda3/envs/tf_py3.9/lib/python3.9/site-packages/keras/src/losses.py\", line 142, in __call__\n        losses = call_fn(y_true, y_pred)\n    File \"/home/aman/anaconda3/envs/tf_py3.9/lib/python3.9/site-packages/keras/src/losses.py\", line 268, in call  **\n        return ag_fn(y_true, y_pred, **self._fn_kwargs)\n    File \"/home/aman/anaconda3/envs/tf_py3.9/lib/python3.9/site-packages/keras/src/losses.py\", line 358, in __init__  **\n        super().__init__(mean_squared_error, name=name, reduction=reduction)\n    File \"/home/aman/anaconda3/envs/tf_py3.9/lib/python3.9/site-packages/keras/src/losses.py\", line 246, in __init__\n        super().__init__(reduction=reduction, name=name)\n    File \"/home/aman/anaconda3/envs/tf_py3.9/lib/python3.9/site-packages/keras/src/losses.py\", line 83, in __init__\n        losses_utils.ReductionV2.validate(reduction)\n    File \"/home/aman/anaconda3/envs/tf_py3.9/lib/python3.9/site-packages/keras/src/utils/losses_utils.py\", line 87, in validate\n        if key not in cls.all():\n\n    TypeError: Expected float32 passed to parameter 'y' of op 'Equal', got 'auto' of type 'str' instead. Error: Expected float32, but got auto of type 'str'.\n"
     ]
    }
   ],
   "source": [
    "history = model.fit(\n",
    "    inp_samples,\n",
    "    inp_labels,\n",
    "    epochs=5,\n",
    "    batch_size=128\n",
    ")"
   ]
  },
  {
   "cell_type": "code",
   "execution_count": null,
   "metadata": {
    "colab_type": "code"
   },
   "outputs": [],
   "source": [
    "history.history"
   ]
  },
  {
   "cell_type": "markdown",
   "metadata": {
    "colab_type": "text"
   },
   "source": [
    "### Monitoring loss and metrics on validation data"
   ]
  },
  {
   "cell_type": "markdown",
   "metadata": {
    "colab_type": "text"
   },
   "source": [
    "**Using the `validation_data` argument**"
   ]
  },
  {
   "cell_type": "code",
   "execution_count": null,
   "metadata": {
    "colab_type": "code"
   },
   "outputs": [],
   "source": [
    "model = keras.Sequential([keras.layers.Dense(1)])\n",
    "model.compile(optimizer=keras.optimizers.RMSprop(learning_rate=0.1),\n",
    "              loss=keras.losses.MeanSquaredError(),\n",
    "              metrics=[keras.metrics.BinaryAccuracy()])\n",
    "\n",
    "indices_permutation = np.random.permutation(len(inputs))\n",
    "shuffled_inputs = inputs[indices_permutation]\n",
    "shuffled_targets = targets[indices_permutation]\n",
    "\n",
    "num_validation_samples = int(0.3 * len(inputs))\n",
    "val_inputs = shuffled_inputs[:num_validation_samples]\n",
    "val_targets = shuffled_targets[:num_validation_samples]\n",
    "training_inputs = shuffled_inputs[num_validation_samples:]\n",
    "training_targets = shuffled_targets[num_validation_samples:]\n",
    "model.fit(\n",
    "    training_inputs,\n",
    "    training_targets,\n",
    "    epochs=5,\n",
    "    batch_size=16,\n",
    "    validation_data=(val_inputs, val_targets)\n",
    ")"
   ]
  },
  {
   "cell_type": "code",
   "execution_count": 87,
   "metadata": {},
   "outputs": [
    {
     "name": "stdout",
     "output_type": "stream",
     "text": [
      "Epoch 1/5\n"
     ]
    },
    {
     "name": "stderr",
     "output_type": "stream",
     "text": [
      "2023-08-20 00:53:09.318067: I tensorflow/compiler/xla/service/service.cc:168] XLA service 0x7fa29408b760 initialized for platform CUDA (this does not guarantee that XLA will be used). Devices:\n",
      "2023-08-20 00:53:09.318142: I tensorflow/compiler/xla/service/service.cc:176]   StreamExecutor device (0): NVIDIA GeForce RTX 3070 Laptop GPU, Compute Capability 8.6\n",
      "2023-08-20 00:53:09.344855: I tensorflow/compiler/mlir/tensorflow/utils/dump_mlir_util.cc:255] disabling MLIR crash reproducer, set env var `MLIR_CRASH_REPRODUCER_DIRECTORY` to enable.\n",
      "2023-08-20 00:53:09.461182: I tensorflow/compiler/xla/stream_executor/cuda/cuda_dnn.cc:432] Loaded cuDNN version 8902\n"
     ]
    },
    {
     "name": "stdout",
     "output_type": "stream",
     "text": [
      "56/88 [==================>...........] - ETA: 0s - loss: 2.5554 - binary_accuracy: 0.0000e+00 "
     ]
    },
    {
     "name": "stderr",
     "output_type": "stream",
     "text": [
      "2023-08-20 00:53:09.584914: I ./tensorflow/compiler/jit/device_compiler.h:186] Compiled cluster using XLA!  This line is logged at most once for the lifetime of the process.\n"
     ]
    },
    {
     "name": "stdout",
     "output_type": "stream",
     "text": [
      "88/88 [==============================] - 1s 3ms/step - loss: 2.5920 - binary_accuracy: 0.0000e+00 - val_loss: 2.2216 - val_binary_accuracy: 0.5017\n",
      "Epoch 2/5\n",
      "88/88 [==============================] - 0s 2ms/step - loss: 2.5823 - binary_accuracy: 0.0000e+00 - val_loss: 2.0241 - val_binary_accuracy: 0.5133\n",
      "Epoch 3/5\n",
      "88/88 [==============================] - 0s 2ms/step - loss: 2.5819 - binary_accuracy: 0.0000e+00 - val_loss: 1.8478 - val_binary_accuracy: 0.5100\n",
      "Epoch 4/5\n",
      "88/88 [==============================] - 0s 2ms/step - loss: 2.5818 - binary_accuracy: 0.0000e+00 - val_loss: 1.4134 - val_binary_accuracy: 0.5350\n",
      "Epoch 5/5\n",
      "88/88 [==============================] - 0s 2ms/step - loss: 2.5861 - binary_accuracy: 0.0000e+00 - val_loss: 2.1109 - val_binary_accuracy: 0.5100\n"
     ]
    },
    {
     "data": {
      "text/plain": [
       "<keras.src.callbacks.History at 0x7fa15654df40>"
      ]
     },
     "execution_count": 87,
     "metadata": {},
     "output_type": "execute_result"
    }
   ],
   "source": [
    "model = keras.Sequential([keras.layers.Dense(1)])\n",
    "model.compile(optimizer=keras.optimizers.RMSprop(learning_rate=0.1),\n",
    "              loss=keras.losses.MeanSquaredError(),\n",
    "              metrics=[keras.metrics.BinaryAccuracy()])\n",
    "\n",
    "idx_permutation = np.random.permutation(len(inp_samples))\n",
    "shuffled_inp = inp_samples[idx_permutation]\n",
    "shuffled_labels = inp_labels[idx_permutation]\n",
    "\n",
    "num_val_samples = int(0.3*len(inp_samples))\n",
    "val_inputs = shuffled_inp[:num_val_samples]\n",
    "val_labels = shuffled_labels[:num_val_samples]\n",
    "training_inp = shuffled_inp[num_val_samples:]\n",
    "training_labels = shuffled_inp[num_val_samples:]\n",
    "\n",
    "model.fit(\n",
    "    training_inp,\n",
    "    training_labels,\n",
    "    epochs=5,\n",
    "    batch_size=16,\n",
    "    validation_data=(val_inputs, val_labels)\n",
    ")"
   ]
  },
  {
   "cell_type": "markdown",
   "metadata": {
    "colab_type": "text"
   },
   "source": [
    "### Inference: Using a model after training"
   ]
  },
  {
   "cell_type": "code",
   "execution_count": 88,
   "metadata": {
    "colab_type": "code"
   },
   "outputs": [
    {
     "name": "stdout",
     "output_type": "stream",
     "text": [
      "5/5 [==============================] - 0s 911us/step\n",
      "[[1.2516605 ]\n",
      " [2.9207509 ]\n",
      " [1.2584331 ]\n",
      " [1.4379426 ]\n",
      " [3.4485588 ]\n",
      " [1.4158924 ]\n",
      " [2.2278862 ]\n",
      " [0.14687292]\n",
      " [1.5664487 ]\n",
      " [1.1058309 ]]\n"
     ]
    }
   ],
   "source": [
    "predictions = model.predict(val_inputs, batch_size=128)\n",
    "print(predictions[:10])"
   ]
  },
  {
   "cell_type": "markdown",
   "metadata": {
    "colab_type": "text"
   },
   "source": [
    "## Summary"
   ]
  }
 ],
 "metadata": {
  "colab": {
   "collapsed_sections": [],
   "name": "chapter03_introduction-to-keras-and-tf.i",
   "private_outputs": false,
   "provenance": [],
   "toc_visible": true
  },
  "kernelspec": {
   "display_name": "Python 3 (ipykernel)",
   "language": "python",
   "name": "python3"
  },
  "language_info": {
   "codemirror_mode": {
    "name": "ipython",
    "version": 3
   },
   "file_extension": ".py",
   "mimetype": "text/x-python",
   "name": "python",
   "nbconvert_exporter": "python",
   "pygments_lexer": "ipython3",
   "version": "3.9.17"
  },
  "widgets": {
   "application/vnd.jupyter.widget-state+json": {
    "state": {},
    "version_major": 2,
    "version_minor": 0
   }
  }
 },
 "nbformat": 4,
 "nbformat_minor": 4
}
